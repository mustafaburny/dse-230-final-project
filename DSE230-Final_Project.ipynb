{
 "cells": [
  {
   "cell_type": "markdown",
   "id": "1bf364f6",
   "metadata": {},
   "source": [
    "# DSE 230 - Final Project Notebook - Biometric Data - Classification"
   ]
  },
  {
   "cell_type": "code",
   "execution_count": 1,
   "id": "adefc499",
   "metadata": {},
   "outputs": [],
   "source": [
    "### package requirements\n",
    "# numpy v.\n"
   ]
  },
  {
   "cell_type": "code",
   "execution_count": 2,
   "id": "4dee1875",
   "metadata": {},
   "outputs": [],
   "source": [
    "import pandas as pd\n",
    "import numpy as np\n",
    "from scipy.io import arff\n",
    "from glob import glob\n",
    "import pyspark\n",
    "from pyspark.sql import SparkSession\n",
    "from pyspark.ml.feature import VectorAssembler, StandardScaler\n",
    "from pyspark.ml.classification import LogisticRegression, LinearSVC, OneVsRest, RandomForestClassifier\n",
    "from pyspark.ml.evaluation import MulticlassClassificationEvaluator"
   ]
  },
  {
   "cell_type": "code",
   "execution_count": 3,
   "id": "c0a81c27",
   "metadata": {},
   "outputs": [],
   "source": [
    "# go get data\n",
    "\n",
    "#!wget https://archive.ics.uci.edu/ml/machine-learning-databases/00507/wisdm-dataset.zip\n",
    "#!unzip -o -j \"wisdm-dataset.zip\" \"wisdm-dataset/arff_files/phone/accel/data_1600_accel_phone.arff\"\n",
    "#!unzip -o -j \"wisdm-dataset.zip\" \"wisdm-dataset/arff_files/*\""
   ]
  },
  {
   "cell_type": "code",
   "execution_count": 4,
   "id": "d0865614",
   "metadata": {},
   "outputs": [
    {
     "data": {
      "text/plain": [
       "['data_1632_accel_watch.arff',\n",
       " 'data_1621_accel_watch.arff',\n",
       " 'data_1619_accel_watch.arff',\n",
       " 'data_1639_accel_watch.arff',\n",
       " 'data_1644_accel_watch.arff',\n",
       " 'data_1602_accel_watch.arff',\n",
       " 'data_1603_accel_watch.arff',\n",
       " 'data_1635_accel_watch.arff',\n",
       " 'data_1631_accel_watch.arff',\n",
       " 'data_1638_accel_watch.arff',\n",
       " 'data_1627_accel_watch.arff',\n",
       " 'data_1606_accel_watch.arff',\n",
       " 'data_1604_accel_watch.arff',\n",
       " 'data_1650_accel_watch.arff',\n",
       " 'data_1618_accel_watch.arff',\n",
       " 'data_1640_accel_watch.arff',\n",
       " 'data_1605_accel_watch.arff',\n",
       " 'data_1613_accel_watch.arff',\n",
       " 'data_1615_accel_watch.arff',\n",
       " 'data_1622_accel_watch.arff',\n",
       " 'data_1642_accel_watch.arff',\n",
       " 'data_1623_accel_watch.arff',\n",
       " 'data_1608_accel_watch.arff',\n",
       " 'data_1612_accel_watch.arff',\n",
       " 'data_1607_accel_watch.arff',\n",
       " 'data_1637_accel_watch.arff',\n",
       " 'data_1620_accel_watch.arff',\n",
       " 'data_1646_accel_watch.arff',\n",
       " 'data_1601_accel_watch.arff',\n",
       " 'data_1617_accel_watch.arff',\n",
       " 'data_1641_accel_watch.arff',\n",
       " 'data_1648_accel_watch.arff',\n",
       " 'data_1611_accel_watch.arff',\n",
       " 'data_1616_accel_watch.arff',\n",
       " 'data_1624_accel_watch.arff',\n",
       " 'data_1609_accel_watch.arff',\n",
       " 'data_1629_accel_watch.arff',\n",
       " 'data_1647_accel_watch.arff',\n",
       " 'data_1610_accel_watch.arff',\n",
       " 'data_1600_accel_watch.arff',\n",
       " 'data_1625_accel_watch.arff',\n",
       " 'data_1626_accel_watch.arff',\n",
       " 'data_1630_accel_watch.arff',\n",
       " 'data_1645_accel_watch.arff',\n",
       " 'data_1628_accel_watch.arff',\n",
       " 'data_1634_accel_watch.arff',\n",
       " 'data_1649_accel_watch.arff',\n",
       " 'data_1636_accel_watch.arff',\n",
       " 'data_1633_accel_watch.arff',\n",
       " 'data_1643_accel_watch.arff']"
      ]
     },
     "execution_count": 4,
     "metadata": {},
     "output_type": "execute_result"
    }
   ],
   "source": [
    "glob('data_*_accel_watch.arff')"
   ]
  },
  {
   "cell_type": "code",
   "execution_count": 5,
   "id": "38acfb02",
   "metadata": {},
   "outputs": [],
   "source": [
    "def load_arffs(wildcard_path):\n",
    "    arff_list = glob(wildcard_path)\n",
    "    df = pd.DataFrame()\n",
    "    for file in arff_list:\n",
    "        data = arff.loadarff(file)\n",
    "        df = pd.concat([df, pd.DataFrame(data[0])])\n",
    "    print(df.shape)\n",
    "    return df"
   ]
  },
  {
   "cell_type": "code",
   "execution_count": 6,
   "id": "8cbcfcdd",
   "metadata": {},
   "outputs": [],
   "source": [
    "def make_dataframes():   \n",
    "    \n",
    "    global df_accel_watch, df_accel_phone, df_gyro_watch, df_gyro_phone\n",
    "    \n",
    "    df_accel_watch = load_arffs('data_*_accel_watch.arff')\n",
    "    df_accel_phone = load_arffs('data_*_accel_phone.arff')\n",
    "    df_gyro_watch = load_arffs('data_*_gyro_watch.arff')\n",
    "    df_gyro_phone = load_arffs('data_*_gyro_phone.arff')"
   ]
  },
  {
   "cell_type": "code",
   "execution_count": 7,
   "id": "38cfe0b9",
   "metadata": {},
   "outputs": [],
   "source": [
    "def data_cleanup(df):\n",
    "    df.columns = [col.replace('\"','') for col in df.columns.tolist()]\n",
    "    df['ACTIVITY'] = [x.decode('utf-8') for x in df['ACTIVITY']]\n",
    "    df['class'] = [x.decode('utf-8') for x in df['class']]\n",
    "    df['label'] = df['ACTIVITY'].astype('category').cat.codes.astype('int')\n",
    "    return df"
   ]
  },
  {
   "cell_type": "code",
   "execution_count": 8,
   "id": "865f4b6f",
   "metadata": {},
   "outputs": [],
   "source": [
    "def run_cleanup():\n",
    "    \n",
    "    global df_accel_watch, df_accel_phone, df_gyro_watch, df_gyro_phone\n",
    "    \n",
    "    df_accel_watch = data_cleanup(df_accel_watch)\n",
    "    df_accel_phone = data_cleanup(df_accel_phone)\n",
    "    df_gyro_watch = data_cleanup(df_gyro_watch)\n",
    "    df_gyro_phone = data_cleanup(df_gyro_phone)"
   ]
  },
  {
   "cell_type": "code",
   "execution_count": 9,
   "id": "aaa12a81",
   "metadata": {},
   "outputs": [],
   "source": [
    "def add_data_descriptive_columns():\n",
    "    df_accel_watch['device_type'], df_accel_watch['sensor_type'] = ('watch', 'accelerometer')\n",
    "    df_accel_phone['device_type'], df_accel_phone['sensor_type'] = ('phone', 'accelerometer')\n",
    "    df_gyro_watch['device_type'], df_gyro_watch['sensor_type'] = ('watch', 'gyroscope')\n",
    "    df_gyro_phone['device_type'], df_gyro_phone['sensor_type'] = ('phone', 'gyroscope')"
   ]
  },
  {
   "cell_type": "code",
   "execution_count": 10,
   "id": "314c8259",
   "metadata": {},
   "outputs": [],
   "source": [
    "def spark_preprocessing(spark_df):\n",
    "    # remove na values\n",
    "    before_drop = spark_df.count()\n",
    "    spark_df = spark_df.dropna(how='any')\n",
    "    after_drop = spark_df.count()\n",
    "\n",
    "    print('{} rows dropped for having NA values'.format(before_drop - after_drop))\n",
    "\n",
    "    # create feature vector column\n",
    "    features = spark_df.columns[1:-4]\n",
    "    assembler = VectorAssembler(inputCols=features, outputCol='featureVector')\n",
    "    spark_df = assembler.transform(spark_df)\n",
    "\n",
    "    # split data into test and training\n",
    "    train_df, test_df = spark_df.randomSplit([.8,.2], seed=42)\n",
    "\n",
    "    # scale input data\n",
    "    scaler = StandardScaler(inputCol='featureVector', outputCol='featureVector_scaled', withStd=True, withMean=True)\n",
    "    scalerModel = scaler.fit(train_df)\n",
    "\n",
    "    train_df = scalerModel.transform(train_df)\n",
    "    test_df = scalerModel.transform(test_df)\n",
    "    \n",
    "    return train_df, test_df"
   ]
  },
  {
   "cell_type": "code",
   "execution_count": 11,
   "id": "94e8e336",
   "metadata": {},
   "outputs": [
    {
     "name": "stdout",
     "output_type": "stream",
     "text": [
      "(18211, 93)\n",
      "(23074, 93)\n",
      "(16533, 93)\n",
      "(17281, 93)\n"
     ]
    }
   ],
   "source": [
    "make_dataframes()\n",
    "run_cleanup()\n",
    "add_data_descriptive_columns()"
   ]
  },
  {
   "cell_type": "code",
   "execution_count": 12,
   "id": "76cce611",
   "metadata": {},
   "outputs": [
    {
     "data": {
      "text/plain": [
       "Index(['ACTIVITY', 'X0', 'X1', 'X2', 'X3', 'X4', 'X5', 'X6', 'X7', 'X8', 'X9',\n",
       "       'Y0', 'Y1', 'Y2', 'Y3', 'Y4', 'Y5', 'Y6', 'Y7', 'Y8', 'Y9', 'Z0', 'Z1',\n",
       "       'Z2', 'Z3', 'Z4', 'Z5', 'Z6', 'Z7', 'Z8', 'Z9', 'XAVG', 'YAVG', 'ZAVG',\n",
       "       'XPEAK', 'YPEAK', 'ZPEAK', 'XABSOLDEV', 'YABSOLDEV', 'ZABSOLDEV',\n",
       "       'XSTANDDEV', 'YSTANDDEV', 'ZSTANDDEV', 'XVAR', 'YVAR', 'ZVAR', 'XMFCC0',\n",
       "       'XMFCC1', 'XMFCC2', 'XMFCC3', 'XMFCC4', 'XMFCC5', 'XMFCC6', 'XMFCC7',\n",
       "       'XMFCC8', 'XMFCC9', 'XMFCC10', 'XMFCC11', 'XMFCC12', 'YMFCC0', 'YMFCC1',\n",
       "       'YMFCC2', 'YMFCC3', 'YMFCC4', 'YMFCC5', 'YMFCC6', 'YMFCC7', 'YMFCC8',\n",
       "       'YMFCC9', 'YMFCC10', 'YMFCC11', 'YMFCC12', 'ZMFCC0', 'ZMFCC1', 'ZMFCC2',\n",
       "       'ZMFCC3', 'ZMFCC4', 'ZMFCC5', 'ZMFCC6', 'ZMFCC7', 'ZMFCC8', 'ZMFCC9',\n",
       "       'ZMFCC10', 'ZMFCC11', 'ZMFCC12', 'XYCOS', 'XZCOS', 'YZCOS', 'XYCOR',\n",
       "       'XZCOR', 'YZCOR', 'RESULTANT', 'class', 'label', 'device_type',\n",
       "       'sensor_type'],\n",
       "      dtype='object')"
      ]
     },
     "execution_count": 12,
     "metadata": {},
     "output_type": "execute_result"
    }
   ],
   "source": [
    "df_gyro_phone.columns"
   ]
  },
  {
   "cell_type": "code",
   "execution_count": 13,
   "id": "cd2e7c54",
   "metadata": {},
   "outputs": [
    {
     "data": {
      "text/plain": [
       "(75099, 96)"
      ]
     },
     "execution_count": 13,
     "metadata": {},
     "output_type": "execute_result"
    }
   ],
   "source": [
    "# combine all data frames and convert to numpy array\n",
    "\n",
    "df = pd.concat([df_accel_watch, df_accel_phone, df_gyro_watch, df_gyro_phone])\n",
    "df.shape"
   ]
  },
  {
   "cell_type": "code",
   "execution_count": 14,
   "id": "5c00a5a2",
   "metadata": {},
   "outputs": [
    {
     "name": "stdout",
     "output_type": "stream",
     "text": [
      "3.1.1 3.1.1\n"
     ]
    }
   ],
   "source": [
    "# Initialize Spark Session\n",
    "conf = pyspark.SparkConf().setAll([\n",
    "    ('spark.master', 'local[*]'),\n",
    "    ('spark.app.name', 'PySpark DSE230 Final')])\n",
    "\n",
    "try: \n",
    "    if type(spark) == 'pyspark.sql.session.SparkSession':\n",
    "        spark.stop()\n",
    "        spark = SparkSession.builder.config(conf=conf).getOrCreate()\n",
    "except:\n",
    "    spark = SparkSession.builder.config(conf=conf).getOrCreate()\n",
    "\n",
    "    print (spark.version, pyspark.version.__version__)"
   ]
  },
  {
   "cell_type": "code",
   "execution_count": 15,
   "id": "016f6ce6",
   "metadata": {},
   "outputs": [],
   "source": [
    "# convert Pandas dataframe to Spark dataframe\n",
    "\n",
    "spark_df = spark.createDataFrame(df)\n",
    "\n",
    "#from pyspark.ml.feature import StringIndexer\n",
    "#stringIndexer = StringIndexer(inputCol=\"label\", outputCol=\"indexed\")\n",
    "#si_model = stringIndexer.fit(df)\n",
    "#td = si_model.transform(df)\n"
   ]
  },
  {
   "cell_type": "code",
   "execution_count": 16,
   "id": "91662c8f",
   "metadata": {},
   "outputs": [],
   "source": [
    "# separate data into individual descriptives data frames\n",
    "\n",
    "spark_df_accel_watch = spark_df.select('*').where((spark_df.device_type == 'watch') & (spark_df.sensor_type == 'accelerometer'))\n",
    "spark_df_gyro_watch = spark_df.select('*').where((spark_df.device_type == 'watch') & (spark_df.sensor_type == 'gyroscope'))\n",
    "spark_df_accel_phone = spark_df.select('*').where((spark_df.device_type == 'phone') & (spark_df.sensor_type == 'accelerometer'))\n",
    "spark_df_gyro_phone = spark_df.select('*').where((spark_df.device_type == 'phone') & (spark_df.sensor_type == 'gyroscope'))"
   ]
  },
  {
   "cell_type": "code",
   "execution_count": 17,
   "id": "84d45eb4",
   "metadata": {},
   "outputs": [
    {
     "name": "stdout",
     "output_type": "stream",
     "text": [
      "0 rows dropped for having NA values\n",
      "0 rows dropped for having NA values\n",
      "0 rows dropped for having NA values\n",
      "0 rows dropped for having NA values\n"
     ]
    }
   ],
   "source": [
    "# conduct data pre-processing in Spark\n",
    "\n",
    "train_df_accel_watch, test_df_accel_watch = spark_preprocessing(spark_df_accel_watch)\n",
    "train_df_gyro_watch, test_df_gyro_watch = spark_preprocessing(spark_df_gyro_watch)\n",
    "train_df_accel_phone, test_df_accel_phone = spark_preprocessing(spark_df_accel_phone)\n",
    "train_df_gyro_phone, test_df_gyro_phone = spark_preprocessing(spark_df_gyro_phone)"
   ]
  },
  {
   "cell_type": "code",
   "execution_count": 18,
   "id": "f1bb3e23",
   "metadata": {},
   "outputs": [
    {
     "name": "stdout",
     "output_type": "stream",
     "text": [
      "+--------+---+---+---+---+---+----+----+----+----+---+----+----+----+----+---+---+---+---+---+---+-----+-----+-----+-----+---+---+---+---+---+---+-------+--------+--------+-----+-------+-------+---------+---------+---------+---------+---------+---------+--------+-------+------+-------+-------+--------+--------+--------+--------+--------+--------+--------+--------+--------+--------+--------+--------+--------+--------+--------+--------+--------+--------+--------+--------+--------+--------+--------+--------+--------+--------+--------+--------+--------+-------+--------+--------+--------+--------+--------+--------+--------+---------+---------+--------+--------+---------+--------+---------+-----+-----+-----------+-------------+--------------------+--------------------+\n",
      "|ACTIVITY| X0| X1| X2| X3| X4|  X5|  X6|  X7|  X8| X9|  Y0|  Y1|  Y2|  Y3| Y4| Y5| Y6| Y7| Y8| Y9|   Z0|   Z1|   Z2|   Z3| Z4| Z5| Z6| Z7| Z8| Z9|   XAVG|    YAVG|    ZAVG|XPEAK|  YPEAK|  ZPEAK|XABSOLDEV|YABSOLDEV|ZABSOLDEV|XSTANDDEV|YSTANDDEV|ZSTANDDEV|    XVAR|   YVAR|  ZVAR| XMFCC0| XMFCC1|  XMFCC2|  XMFCC3|  XMFCC4|  XMFCC5|  XMFCC6|  XMFCC7|  XMFCC8|  XMFCC9| XMFCC10| XMFCC11| XMFCC12|  YMFCC0|  YMFCC1|  YMFCC2|  YMFCC3|  YMFCC4|  YMFCC5|  YMFCC6|  YMFCC7|  YMFCC8|  YMFCC9| YMFCC10| YMFCC11| YMFCC12|  ZMFCC0|  ZMFCC1|  ZMFCC2|  ZMFCC3|  ZMFCC4| ZMFCC5|  ZMFCC6|  ZMFCC7|  ZMFCC8|  ZMFCC9| ZMFCC10| ZMFCC11| ZMFCC12|    XYCOS|    XZCOS|   YZCOS|   XYCOR|    XZCOR|   YZCOR|RESULTANT|class|label|device_type|  sensor_type|       featureVector|featureVector_scaled|\n",
      "+--------+---+---+---+---+---+----+----+----+----+---+----+----+----+----+---+---+---+---+---+---+-----+-----+-----+-----+---+---+---+---+---+---+-------+--------+--------+-----+-------+-------+---------+---------+---------+---------+---------+---------+--------+-------+------+-------+-------+--------+--------+--------+--------+--------+--------+--------+--------+--------+--------+--------+--------+--------+--------+--------+--------+--------+--------+--------+--------+--------+--------+--------+--------+--------+--------+--------+--------+--------+-------+--------+--------+--------+--------+--------+--------+--------+---------+---------+--------+--------+---------+--------+---------+-----+-----+-----------+-------------+--------------------+--------------------+\n",
      "|       A|0.0|0.0|0.0|0.0|0.0|0.04|0.52|0.37|0.07|0.0|0.41|0.28|0.23|0.08|0.0|0.0|0.0|0.0|0.0|0.0|0.375|0.405|0.205|0.015|0.0|0.0|0.0|0.0|0.0|0.0|12.4465|-1.69226|-1.52514| 32.0|48.7179|49.1892|  1.23915|  2.45429|  1.45496| 0.108726| 0.203031| 0.121174|0.329736|0.45059|0.3481|0.41927|0.59262|0.591668|0.590083|0.587865|0.585018|0.581545|0.577449|0.572734|0.567406|0.561471|0.554934|0.547803|0.339965|0.480526|0.479754|0.478469|0.476671|0.474362|0.471546|0.468224|0.464401|0.460081|0.455269|0.449968|0.444186|0.278093|0.393073|0.392441|0.391389|0.389919|0.38803|0.385726|0.383009|0.379882|0.376348|0.372412|0.368076|0.363346|-0.474716|-0.650897|0.820585|0.276457|0.0973067|0.750565|  13.0987| 1603|    0|      watch|accelerometer|[0.0,0.0,0.0,0.0,...|[-0.9026888365055...|\n",
      "+--------+---+---+---+---+---+----+----+----+----+---+----+----+----+----+---+---+---+---+---+---+-----+-----+-----+-----+---+---+---+---+---+---+-------+--------+--------+-----+-------+-------+---------+---------+---------+---------+---------+---------+--------+-------+------+-------+-------+--------+--------+--------+--------+--------+--------+--------+--------+--------+--------+--------+--------+--------+--------+--------+--------+--------+--------+--------+--------+--------+--------+--------+--------+--------+--------+--------+--------+--------+-------+--------+--------+--------+--------+--------+--------+--------+---------+---------+--------+--------+---------+--------+---------+-----+-----+-----------+-------------+--------------------+--------------------+\n",
      "only showing top 1 row\n",
      "\n"
     ]
    }
   ],
   "source": [
    "train_df_accel_watch.show(1)"
   ]
  },
  {
   "cell_type": "code",
   "execution_count": 20,
   "id": "5bfaf432",
   "metadata": {},
   "outputs": [
    {
     "data": {
      "text/plain": [
       "0.7010596765197992"
      ]
     },
     "execution_count": 20,
     "metadata": {},
     "output_type": "execute_result"
    }
   ],
   "source": [
    "# Classification - One v. Rest - Logistic Regression\n",
    "\n",
    "train_data = train_df_accel_watch\n",
    "test_data = test_df_accel_watch\n",
    "classifier = LogisticRegression(maxIter=10000)\n",
    "feature_col = 'featureVector_scaled'\n",
    "label_col = 'label'\n",
    "evaluation_metric = 'accuracy'\n",
    "\n",
    "train_data = train_data.select(feature_col, label_col). \\\n",
    "                        withColumnRenamed(feature_col, 'features'). \\\n",
    "                        withColumnRenamed(label_col, 'label')\n",
    "test_data = test_data.select(feature_col, label_col). \\\n",
    "                      withColumnRenamed(feature_col, 'features'). \\\n",
    "                      withColumnRenamed(label_col, 'label')\n",
    "\n",
    "#train_data = train_data.select('*').where((train_data.label == 'A') | (train_data.label == 'B'))\n",
    "%% time\n",
    "\n",
    "ovr = OneVsRest(classifier=classifier)\n",
    "model = ovr.fit(train_data)\n",
    "eval_data = model.transform(test_data)\n",
    "\n",
    "evaluator = MulticlassClassificationEvaluator(metricName=evaluation_metric)\n",
    "evaluator.evaluate(eval_data)"
   ]
  },
  {
   "cell_type": "code",
   "execution_count": 21,
   "id": "a4bc24a6",
   "metadata": {},
   "outputs": [
    {
     "data": {
      "text/plain": [
       "0.660345789180145"
      ]
     },
     "execution_count": 21,
     "metadata": {},
     "output_type": "execute_result"
    }
   ],
   "source": [
    "classifier=LinearSVC(maxIter=100)\n",
    "\n",
    "%% time\n",
    "\n",
    "ovr = OneVsRest(classifier=classifier)\n",
    "model = ovr.fit(train_data)\n",
    "eval_data = model.transform(test_data)\n",
    "\n",
    "evaluator = MulticlassClassificationEvaluator(metricName=evaluation_metric)\n",
    "evaluator.evaluate(eval_data)"
   ]
  },
  {
   "cell_type": "code",
   "execution_count": null,
   "id": "46d52e8f",
   "metadata": {},
   "outputs": [],
   "source": [
    "https://spark.apache.org/docs/2.2.0/api/python/pyspark.ml.html#pyspark.ml.classification.RandomForestClassifier"
   ]
  },
  {
   "cell_type": "code",
   "execution_count": null,
   "id": "dad9feee",
   "metadata": {},
   "outputs": [],
   "source": [
    "train_data.show(1)"
   ]
  },
  {
   "cell_type": "code",
   "execution_count": null,
   "id": "36a36de5",
   "metadata": {
    "tags": []
   },
   "outputs": [],
   "source": [
    "# train model - classifer"
   ]
  },
  {
   "cell_type": "code",
   "execution_count": null,
   "id": "7c18303e",
   "metadata": {},
   "outputs": [],
   "source": [
    "# generate predictions and score"
   ]
  },
  {
   "cell_type": "code",
   "execution_count": null,
   "id": "7c1b15fd",
   "metadata": {},
   "outputs": [],
   "source": [
    "# visualize prediction / model performance"
   ]
  },
  {
   "cell_type": "code",
   "execution_count": null,
   "id": "eb6990c1",
   "metadata": {
    "jupyter": {
     "source_hidden": true
    },
    "tags": []
   },
   "outputs": [],
   "source": [
    "# load data into dataframe for cleanup\n",
    "\n",
    "data = arff.loadarff('data_1600_accel_phone.arff')\n",
    "df = pd.DataFrame(data[0])\n",
    "df.shape"
   ]
  },
  {
   "cell_type": "code",
   "execution_count": null,
   "id": "bcfe7b89",
   "metadata": {
    "jupyter": {
     "source_hidden": true
    },
    "tags": []
   },
   "outputs": [],
   "source": [
    "# data cleanup in Pandas\n",
    "\n",
    "df.columns = [col.replace('\"','') for col in df.columns.tolist()]\n",
    "df['ACTIVITY'] = [x.decode('utf-8') for x in df['ACTIVITY']]\n",
    "df['class'] = [x.decode('utf-8') for x in df['class']]\n",
    "\n",
    "df.head()"
   ]
  },
  {
   "cell_type": "code",
   "execution_count": null,
   "id": "c63ee8dc",
   "metadata": {
    "jupyter": {
     "source_hidden": true
    },
    "tags": []
   },
   "outputs": [],
   "source": [
    "print(df.iloc[0,:].tolist())"
   ]
  },
  {
   "cell_type": "code",
   "execution_count": null,
   "id": "29136379",
   "metadata": {
    "jupyter": {
     "source_hidden": true
    },
    "tags": []
   },
   "outputs": [],
   "source": [
    "df.iloc[0,1:31].sum()"
   ]
  },
  {
   "cell_type": "code",
   "execution_count": null,
   "id": "a693e136",
   "metadata": {
    "jupyter": {
     "source_hidden": true
    },
    "tags": []
   },
   "outputs": [],
   "source": [
    "df.columns"
   ]
  },
  {
   "cell_type": "code",
   "execution_count": null,
   "id": "cff74115",
   "metadata": {
    "jupyter": {
     "source_hidden": true
    },
    "tags": []
   },
   "outputs": [],
   "source": [
    "\n",
    "\n",
    "arr = df.to_array()"
   ]
  },
  {
   "cell_type": "code",
   "execution_count": null,
   "id": "461cd16a",
   "metadata": {
    "jupyter": {
     "source_hidden": true
    },
    "tags": []
   },
   "outputs": [],
   "source": [
    "#df.ACTIVITY.decode('utf-8')\n",
    "#[x.replace(\"b'\", \"\") for x in df.ACTIVITY]\n",
    "[x.decode('utf-8') for x in df.ACTIVITY]"
   ]
  },
  {
   "cell_type": "code",
   "execution_count": null,
   "id": "ea64f612",
   "metadata": {
    "jupyter": {
     "source_hidden": true
    },
    "tags": []
   },
   "outputs": [],
   "source": [
    "type(df.ACTIVITY[1])"
   ]
  },
  {
   "cell_type": "code",
   "execution_count": null,
   "id": "79f2acd1",
   "metadata": {
    "jupyter": {
     "source_hidden": true
    },
    "tags": []
   },
   "outputs": [],
   "source": [
    "data[0]"
   ]
  },
  {
   "cell_type": "code",
   "execution_count": null,
   "id": "af6a1abd",
   "metadata": {
    "jupyter": {
     "source_hidden": true
    },
    "tags": []
   },
   "outputs": [],
   "source": []
  }
 ],
 "metadata": {
  "kernelspec": {
   "display_name": "Python 3",
   "language": "python",
   "name": "python3"
  },
  "language_info": {
   "codemirror_mode": {
    "name": "ipython",
    "version": 3
   },
   "file_extension": ".py",
   "mimetype": "text/x-python",
   "name": "python",
   "nbconvert_exporter": "python",
   "pygments_lexer": "ipython3",
   "version": "3.8.5"
  }
 },
 "nbformat": 4,
 "nbformat_minor": 5
}
